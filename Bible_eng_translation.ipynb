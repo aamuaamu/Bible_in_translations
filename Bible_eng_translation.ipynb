{
  "nbformat": 4,
  "nbformat_minor": 0,
  "metadata": {
    "colab": {
      "name": "Bible_eng_translation",
      "provenance": [],
      "collapsed_sections": [],
      "authorship_tag": "ABX9TyNqNK0u224srrlY+GrxSmE5",
      "include_colab_link": true
    },
    "kernelspec": {
      "name": "python3",
      "display_name": "Python 3"
    },
    "language_info": {
      "name": "python"
    }
  },
  "cells": [
    {
      "cell_type": "markdown",
      "metadata": {
        "id": "view-in-github",
        "colab_type": "text"
      },
      "source": [
        "<a href=\"https://colab.research.google.com/github/aamuaamu/Bible_in_translations/blob/main/Bible_eng_translation.ipynb\" target=\"_parent\"><img src=\"https://colab.research.google.com/assets/colab-badge.svg\" alt=\"Open In Colab\"/></a>"
      ]
    },
    {
      "cell_type": "code",
      "metadata": {
        "id": "rC6hxzOZjIxx"
      },
      "source": [
        "!pip install googletrans==3.1.0a0"
      ],
      "execution_count": null,
      "outputs": []
    },
    {
      "cell_type": "code",
      "metadata": {
        "id": "EW2-deLdjSIG"
      },
      "source": [
        "import pandas as pd\n",
        "import os\n",
        "import time\n",
        "import googletrans\n",
        "from googletrans import Translator\n",
        "from google.colab import  drive\n",
        "drive.mount('drive')"
      ],
      "execution_count": null,
      "outputs": []
    },
    {
      "cell_type": "code",
      "metadata": {
        "id": "NQiAlpMWjWVN"
      },
      "source": [
        "#start_time = time.time()\n",
        "\n",
        "langs = ['Danish', 'Dutch', 'Norwegian', 'German', 'Portuguese', 'French', 'Italian', 'Romanian', 'Spanish', 'Russian', 'Polish', 'Japanese', 'Greek']\n",
        "shorts = ['da','nl','no', 'de','pt','fr','it','ro','es','ru','pl','ja','el']\n",
        "\n",
        "# translate words to English\n",
        "dword = pd.read_csv('/content/drive/MyDrive/Colab Notebooks/' + pos + '_most_common_word.csv')\n",
        "dword = dword.iloc[:25]\n",
        "dwordtranslate = pd.DataFrame()\n",
        "dwordtranslate['English'] = dword['English']\n",
        "for sh,lang in zip(shorts, langs):\n",
        "    print(sh, lang, (time.time() - start_time))\n",
        "    dwordtranslate[lang] = dword[lang].apply(lambda s: translator.translate(s, src=sh, dest='en').text)\n",
        "print(dwordtranslate)\n",
        "dwordtranslate.to_csv('/content/drive/MyDrive/Colab Notebooks/' + pos + '_most_common_word_in_eng.csv')\n",
        "dwordtranslate.to_html('/content/drive/MyDrive/Colab Notebooks/' + pos + '_most_common_word_in_eng.html')\n",
        "\n",
        "#print(\"--- %s seconds ---\" % (time.time() - start_time))"
      ],
      "execution_count": null,
      "outputs": []
    },
    {
      "cell_type": "code",
      "metadata": {
        "id": "R48purROj352"
      },
      "source": [
        "# translate words to English by hand\n",
        "# open the helper file in Notepad\n",
        "# for each language, replace ',' by ',\\n'\n",
        "# paste the words into Google Translate\n",
        "# paste the result back to Notepad\n",
        "# replace ',\\n' by ','\n",
        "# make sure each row has the right number of commas\n",
        "\n",
        "dwordtranslate = pd.read_csv(\"/content/drive/MyDrive/Colab Notebooks/helper1.csv\")\n",
        "dwordtranslate.set_index('Unnamed: 0', drop = True, inplace = True)\n",
        "dwordtranslate.columns = [''] * len(dwordtranslate.columns)\n",
        "dwordtranslate = dwordtranslate.T\n",
        "dwordtranslate.reset_index(drop = True, inplace = True)\n",
        "print(dwordtranslate.head())\n",
        "dwordtranslate.to_csv('/content/drive/MyDrive/Colab Notebooks/' + pos + '_most_common_word_in_eng.csv')\n",
        "dwordtranslate.to_html('/content/drive/MyDrive/Colab Notebooks/' + pos + '_most_common_word_in_eng.html')"
      ],
      "execution_count": null,
      "outputs": []
    }
  ]
}