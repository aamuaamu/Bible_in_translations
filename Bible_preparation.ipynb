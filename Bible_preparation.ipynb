{
  "nbformat": 4,
  "nbformat_minor": 0,
  "metadata": {
    "colab": {
      "name": "Bible_preparation",
      "provenance": [],
      "collapsed_sections": [],
      "authorship_tag": "ABX9TyMh7HjY+gVlifd1YJopLiaG",
      "include_colab_link": true
    },
    "kernelspec": {
      "name": "python3",
      "display_name": "Python 3"
    },
    "language_info": {
      "name": "python"
    }
  },
  "cells": [
    {
      "cell_type": "markdown",
      "metadata": {
        "id": "view-in-github",
        "colab_type": "text"
      },
      "source": [
        "<a href=\"https://colab.research.google.com/github/aamuaamu/Bible_in_translations/blob/main/Bible_preparation.ipynb\" target=\"_parent\"><img src=\"https://colab.research.google.com/assets/colab-badge.svg\" alt=\"Open In Colab\"/></a>"
      ]
    },
    {
      "cell_type": "code",
      "metadata": {
        "id": "Xud1u2CIfnm5"
      },
      "source": [
        "!pip install -U spacy\n",
        "!python -m spacy validate\n",
        "#!pip uninstall ginza ja-ginza  # did not use it\n",
        "#!pip install -U ginza ja-ginza-electra  # did not use it\n",
        "\n",
        "!python -m spacy download en_core_web_sm\n",
        "!python -m spacy download da_core_news_sm\n",
        "!python -m spacy download nl_core_news_sm\n",
        "!python -m spacy download de_core_news_sm\n",
        "!python -m spacy download nb_core_news_sm\n",
        "!python -m spacy download es_core_news_sm\n",
        "!python -m spacy download fr_core_news_sm\n",
        "!python -m spacy download it_core_news_sm\n",
        "!python -m spacy download pt_core_news_sm\n",
        "!python -m spacy download ro_core_news_sm\n",
        "!python -m spacy download ru_core_news_sm\n",
        "!python -m spacy download pl_core_news_sm\n",
        "!python -m spacy download ja_core_news_sm\n",
        "!python -m spacy download el_core_news_sm"
      ],
      "execution_count": null,
      "outputs": []
    },
    {
      "cell_type": "code",
      "metadata": {
        "id": "VlFzeyXigJtJ"
      },
      "source": [
        "import pandas as pd\n",
        "import os\n",
        "import xml.etree.ElementTree as ET\n",
        "import urllib.request\n",
        "import spacy\n",
        "import time\n",
        "from google.colab import  drive\n",
        "drive.mount('drive')\n",
        "\n",
        "#start_time = time.time()\n",
        "\n",
        "langs = ['English', 'Danish', 'Dutch', 'Norwegian', 'German', 'Portuguese', 'French', \n",
        "         'Italian', 'Romanian', 'Spanish', 'Russian', 'Polish', 'Japanese', 'Greek']\n",
        "packages = ['en_core_web_sm', 'da_core_news_sm', 'nl_core_news_sm', 'nb_core_news_sm', \n",
        "            'de_core_news_sm','pt_core_news_sm','fr_core_news_sm','it_core_news_sm',\n",
        "            'ro_core_news_sm','es_core_news_sm','ru_core_news_sm','pl_core_news_sm',\n",
        "            'ja_core_news_sm','el_core_news_sm']\n",
        "for lang, package in zip(langs, lackages):\n",
        "    nlp = spacy.load(package)\n",
        "    url_dir = 'https://raw.githubusercontent.com/christos-c/bible-corpus/master/bibles/'\n",
        "    url_response = urllib.request.urlopen(url_dir + lang + \".xml\")\n",
        "    xml_content = ET.fromstring(url_response.read())\n",
        "        \n",
        "    wordDic = {}\n",
        "    df = pd.DataFrame(columns = [\"language\",\"verseid\", \"book\", \"verseno\", \"versetext\"])\n",
        "    dg = pd.DataFrame()\n",
        "    for n in xml_content.iter('seg'):\n",
        "        s = n.text\n",
        "        #if not s:  # For Italian and Dutch\n",
        "        #    print(n.items()[0][1])\n",
        "        #    continue\n",
        "        #s = s.strip()\n",
        "        #s = s.replace('--','') # For Spanish, Romanian\n",
        "        #s = s.replace(' -', '') # For Romanian\n",
        "        #s = s.replace('�', 'à') # For Portuguese\n",
        "        #s = s.replace('``', '`') # For Romanian\n",
        "        #s = s.replace(',,', ',') # For Romanian\n",
        "        #s = s.replace(\"ß\", 'ẞ') # For German\n",
        "        while s.count('/ {*') > 0 and s.count('}') > 0:\n",
        "            i = s.find('/ {*')\n",
        "            j = s.find('}')\n",
        "            s = s[:i] + s[j+1:]\n",
        "        vid = n.items()[0][1]\n",
        "        book = vid[2:5]\n",
        "        verseno = vid[6:]\n",
        "        df.loc[len(df.index)] = [lang, vid, book, verseno, s]\n",
        "        if book not in wordDic:\n",
        "            wordDic[book] = {}\n",
        "            #print(book, (time.time() - start_time))\n",
        "        for t in nlp(s):\n",
        "            if t.pos_ not in wordDic[book]:\n",
        "                wordDic[book][t.pos_] = {}\n",
        "            w = t.lemma_.upper()\n",
        "            if w in wordDic[book][t.pos_]:\n",
        "                wordDic[book][t.pos_][w] += 1\n",
        "            else:\n",
        "                wordDic[book][t.pos_][w] = 1\n",
        "    for book in wordDic:\n",
        "        for p in wordDic[book]:\n",
        "            row = pd.DataFrame({'language': [lang for w in wordDic[book][p]], \n",
        "                                'book':[book for w in wordDic[book][p]],\n",
        "                                'pos': [p for w in wordDic[book][p]],\n",
        "                                'word': [w for w in wordDic[book][p]], \n",
        "                                'count': [wordDic[book][p][w] for w in wordDic[book][p]]})\n",
        "            dg = dg.append(row, ignore_index = True)\n",
        "\n",
        "    dg.loc[dg['word'].isin(['`', '{', '}', '-']), 'pos'] = 'PUNCT'\n",
        "    df.reset_index(inplace = True)\n",
        "    df.to_csv('/content/drive/MyDrive/Colab Notebooks/Bible_' + lang + '.csv')\n",
        "    dg.reset_index(inplace = True)\n",
        "    dg.to_csv('/content/drive/MyDrive/Colab Notebooks/Counts_' + lang + '.csv')\n",
        "\n",
        "#print(\"--- %s seconds ---\" % (time.time() - start_time))"
      ],
      "execution_count": null,
      "outputs": []
    }
  ]
}