{
  "nbformat": 4,
  "nbformat_minor": 0,
  "metadata": {
    "colab": {
      "name": "Bible_word_counts",
      "provenance": [],
      "collapsed_sections": [],
      "authorship_tag": "ABX9TyNt18bHlU0dIYiPUdylPoVq",
      "include_colab_link": true
    },
    "kernelspec": {
      "name": "python3",
      "display_name": "Python 3"
    },
    "language_info": {
      "name": "python"
    }
  },
  "cells": [
    {
      "cell_type": "markdown",
      "metadata": {
        "id": "view-in-github",
        "colab_type": "text"
      },
      "source": [
        "<a href=\"https://colab.research.google.com/github/aamuaamu/Bible_in_translations/blob/main/Bible_word_counts.ipynb\" target=\"_parent\"><img src=\"https://colab.research.google.com/assets/colab-badge.svg\" alt=\"Open In Colab\"/></a>"
      ]
    },
    {
      "cell_type": "code",
      "metadata": {
        "id": "Z8i8ZXxViurt"
      },
      "source": [
        "import pandas as pd\n",
        "import os\n",
        "import time\n",
        "from google.colab import  drive\n",
        "drive.mount('drive')"
      ],
      "execution_count": null,
      "outputs": []
    },
    {
      "cell_type": "code",
      "metadata": {
        "id": "0NfDtX0hhmcM"
      },
      "source": [
        "#start_time = time.time()\n",
        "\n",
        "langs = ['English', 'Danish', 'Dutch', 'Norwegian', 'German', 'Portuguese', 'French', \n",
        "         'Italian', 'Romanian', 'Spanish', 'Russian', 'Polish', 'Japanese', 'Greek']\n",
        "\n",
        "# frequency of different parts-of-speech\n",
        "df = pd.DataFrame()\n",
        "for lang in langs:\n",
        "    dg = pd.read_csv('/content/drive/MyDrive/Colab Notebooks/Counts_' + lang + '.csv')\n",
        "    dg.loc[dg['word'].isin(['`', '{', '}', '-']), 'pos'] = 'PUNCT'\n",
        "    dg.to_csv('/content/drive/MyDrive/Colab Notebooks/Counts_' + lang + '.csv')\n",
        "    df = pd.concat([df,dg], ignore_index=True)\n",
        "\n",
        "dg = df.copy()\n",
        "dg = dg[['language','pos','count']]\n",
        "dg = dg[~dg['pos'].isin(['PUNCT', 'SYM', 'X', 'SPACE'])]\n",
        "dg = dg.replace({'PROPN': 'NOUN'})\n",
        "dg = dg.groupby(['language','pos']).sum().reset_index()\n",
        "dg = dg.pivot(index='language', columns='pos')['count']\n",
        "dg.to_html(\"/content/drive/MyDrive/Colab Notebooks/POS_frequency_1.html\")\n",
        "dg = dg.T\n",
        "dg.to_html(\"/content/drive/MyDrive/Colab Notebooks/POS_frequency_2.html\")\n",
        "\n",
        "#print(\"--- %s seconds ---\" % (time.time() - start_time))"
      ],
      "execution_count": null,
      "outputs": []
    },
    {
      "cell_type": "code",
      "metadata": {
        "id": "tSUNhi8riMQ8"
      },
      "source": [
        "#start_time = time.time()\n",
        "\n",
        "# list the most popular nouns (including common nouns and proper nouns)\n",
        "pos = 'NOUN'\n",
        "threshold = 100\n",
        "dg = df.copy()\n",
        "dg = dg.replace({'PROPN': 'NOUN'})\n",
        "dg = dg[dg['pos']==pos]\n",
        "dg = dg[['language','word','count']]\n",
        "dg = dg.groupby(['language','word']).sum().reset_index()\n",
        "dword = pd.DataFrame()\n",
        "dcount = pd.DataFrame()\n",
        "for l in langs:\n",
        "    dh = dg[dg['language'] == l].sort_values(by='count', axis=0, ascending=False)\n",
        "    dword[l] = dh.head(threshold)['word'].tolist()\n",
        "    dcount[l] = dh.head(threshold)['count'].tolist()\n",
        "dword.to_csv('/content/drive/MyDrive/Colab Notebooks/' + pos + '_most_common_word.csv')\n",
        "dcount.to_csv('/content/drive/MyDrive/Colab Notebooks/' + pos + '_most_common_count.csv')\n",
        "dword.T.to_csv('/content/drive/MyDrive/Colab Notebooks/' + pos + '_most_common_word_helper.csv')\n",
        "dword.to_html('/content/drive/MyDrive/Colab Notebooks/' + pos + '_most_common_word.html')\n",
        "dcount.to_html('/content/drive/MyDrive/Colab Notebooks/' + pos + '_most_common_count.html')\n",
        "\n",
        "#print(\"--- %s seconds ---\" % (time.time() - start_time))"
      ],
      "execution_count": null,
      "outputs": []
    },
    {
      "cell_type": "code",
      "metadata": {
        "id": "eanseo_KiegF"
      },
      "source": [
        ""
      ],
      "execution_count": null,
      "outputs": []
    }
  ]
}